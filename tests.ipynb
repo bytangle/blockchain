{
 "cells": [
  {
   "cell_type": "code",
   "execution_count": 8,
   "metadata": {},
   "outputs": [
    {
     "name": "stdout",
     "output_type": "stream",
     "text": [
      "{'name': 'Josh'}\n"
     ]
    }
   ],
   "source": [
    "dic = {\n",
    "    'name' : 'Josh'\n",
    "}\n",
    "\n",
    "print(dic)"
   ]
  }
 ],
 "metadata": {
  "interpreter": {
   "hash": "19701ca5f97318a6c00a07c2a462544ae41aa9f2dbfe0bbcf09e648db95dbcf4"
  },
  "kernelspec": {
   "display_name": "Python 3.10.4 64-bit",
   "language": "python",
   "name": "python3"
  },
  "language_info": {
   "codemirror_mode": {
    "name": "ipython",
    "version": 3
   },
   "file_extension": ".py",
   "mimetype": "text/x-python",
   "name": "python",
   "nbconvert_exporter": "python",
   "pygments_lexer": "ipython3",
   "version": "3.10.4"
  },
  "orig_nbformat": 4
 },
 "nbformat": 4,
 "nbformat_minor": 2
}
